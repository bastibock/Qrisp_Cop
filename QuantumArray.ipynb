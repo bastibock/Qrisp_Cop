{
 "cells": [
  {
   "cell_type": "markdown",
   "metadata": {},
   "source": [
    "## QuantumArray\n",
    "\n",
    "Multiple QuantumVariables with the same type can be handled within a QuantumArray. It is an inheritor of the numpy array, and can therefore be handled with a lot of flexibility since many of the established numpy methods work for QuantumArrays, too.\n",
    "\n",
    "For QuantumArrays with type QuantumFloat, matrix multiplication and tensor contraction is available.\n",
    "\n",
    "For a simple example, one could also create a QuantumArray of QuantumVariables - while this is not particularly better or worse than simply calling the QuantumVariable, but it is another functionality, which brings Qrisp's syntax closer to the classical developer."
   ]
  },
  {
   "cell_type": "code",
   "execution_count": null,
   "metadata": {},
   "outputs": [],
   "source": [
    "from qrisp import *\n",
    "qa = QuantumArray(qtype = QuantumVariable(1), shape = 4)\n",
    "\n",
    "def GHZ(qv):\n",
    "    h(qv[0])\n",
    "    for i in range (1, qv.size):\n",
    "        cx(qv[0], qv[i])\n",
    "        \n",
    "GHZ(qa)\n",
    "\n",
    "print(qa)\n",
    "print(qa.qs)"
   ]
  },
  {
   "cell_type": "markdown",
   "metadata": {},
   "source": [
    "We see that in the dictionary the results now appear as arrays and the corresponding qubit values as elements of that list.\n",
    "\n",
    "Users can also perform matrix multiplication for QuantumArrays of QuantumFloats. Let's, for example multiply the following matrices:"
   ]
  },
  {
   "cell_type": "markdown",
   "metadata": {},
   "source": [
    "## Exercise: Matrix Multiplication\n",
    "\n",
    "Multiply the following matrices using QuantumArrays: $$\\begin{pmatrix}\n",
    "2 & 0\\\\\n",
    "0 & 2\n",
    "\\end{pmatrix}\\cdot\\begin{pmatrix}\n",
    "1 & 2 \\\\\n",
    "3 & 4 \n",
    "\\end{pmatrix}=\\space?$$"
   ]
  },
  {
   "cell_type": "code",
   "execution_count": null,
   "metadata": {},
   "outputs": [],
   "source": [
    "\n",
    "print(qa_1 @ qa_2)"
   ]
  },
  {
   "cell_type": "code",
   "execution_count": null,
   "metadata": {},
   "outputs": [],
   "source": []
  }
 ],
 "metadata": {
  "kernelspec": {
   "display_name": "qrisp_github",
   "language": "python",
   "name": "python3"
  },
  "language_info": {
   "codemirror_mode": {
    "name": "ipython",
    "version": 3
   },
   "file_extension": ".py",
   "mimetype": "text/x-python",
   "name": "python",
   "nbconvert_exporter": "python",
   "pygments_lexer": "ipython3",
   "version": "3.11.5"
  }
 },
 "nbformat": 4,
 "nbformat_minor": 2
}
