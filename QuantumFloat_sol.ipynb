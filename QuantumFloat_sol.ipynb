{
 "cells": [
  {
   "cell_type": "markdown",
   "metadata": {},
   "source": [
    "# QuantumTypes\n",
    "\n",
    "A quantum type in Qrisp is a subclass of QuantumVariable. The following four basic built-in quantum types are included:\n",
    "- QuantumFloat\n",
    "- QuantumBool\n",
    "- QuantumChar\n",
    "- QuantumModulus\n",
    "\n",
    "We will cover the first three, as well as show how one can create a custom quantum type class by inheriting from the most abstract QuantumVariable by modifying the decoder function."
   ]
  },
  {
   "cell_type": "markdown",
   "metadata": {},
   "source": [
    "## QuantumFloat\n",
    "Qrisp offers the functionality to represent floating point numbers, both signed and unsigned, up to an arbitrary precision."
   ]
  },
  {
   "cell_type": "code",
   "execution_count": 1,
   "metadata": {},
   "outputs": [],
   "source": [
    "from qrisp import *\n",
    "a = QuantumFloat(3)"
   ]
  },
  {
   "cell_type": "markdown",
   "metadata": {},
   "source": [
    "The first argument represents the mantissa, also known as the significand of a floating point number, containing its significant digits. The second argument is the exponent. The signed argument lets us differentiate whether or not we also allow negative (signed) numbers.\n",
    "\n",
    "For the above example, where we constructed an unsigned float, with 3 mantissa qubits and $k = 0$ exponent the decoder function is given by $$f_k(i)=i2^k$$\n",
    "\n",
    "We can check the represented numbers by "
   ]
  },
  {
   "cell_type": "code",
   "execution_count": null,
   "metadata": {},
   "outputs": [],
   "source": [
    "for i in range(2**a.size):\n",
    "    print(a.decoder(i))"
   ]
  },
  {
   "cell_type": "markdown",
   "metadata": {},
   "source": [
    "We see $2^3=8$ values, because we have 3 mantissa qubits. The exponent is 0, which implies the precision of $2^{0}=1$. Ok, but these are just integers?!\n",
    "\n",
    "Correct. One can also prepare floats of arbitrary precision, if we add a second argument specifying the precision of $2^{k}$ For the exponent of $-2$, we would have the precission of $2^{-2}=0.25$. And we can also specify whether we want to have a signed or unsigned QuantumFloat:"
   ]
  },
  {
   "cell_type": "code",
   "execution_count": null,
   "metadata": {},
   "outputs": [],
   "source": [
    "b = QuantumFloat(3, -2, signed=True)\n",
    "\n",
    "for i in range(2**b.size):\n",
    "    print(b.decoder(i))"
   ]
  },
  {
   "cell_type": "markdown",
   "metadata": {},
   "source": [
    "A thing to note here is the fact, that the decoder function for signed=True is a little bit different, and given by $$\\begin{align*}f_k^n(i)=\\left\\{\\begin{aligned}\n",
    "         & i2^k \\quad & \\text{if } i<2^n \\\\\n",
    "         & (i-2^{n+1})2^k \\quad & \\text{else}               \n",
    "    \\end{aligned}\\right.\\end{align*}$$"
   ]
  },
  {
   "cell_type": "markdown",
   "metadata": {},
   "source": [
    "Great. Now that we have represented all those numbers, let's make use of that! We can now set a specific value to a QuantumFloat with using the [:] operator similarly to how we used it for the (inefficient) preparation of the GHZ state."
   ]
  },
  {
   "cell_type": "code",
   "execution_count": 3,
   "metadata": {},
   "outputs": [],
   "source": [
    "a[:] = 2\n",
    "b[:] = -0.75"
   ]
  },
  {
   "cell_type": "markdown",
   "metadata": {},
   "source": [
    "We can check the validity of this by calling print, which again runs the underlying circuit (which we haven't seen or thought of so far) on a simulator:"
   ]
  },
  {
   "cell_type": "code",
   "execution_count": null,
   "metadata": {},
   "outputs": [],
   "source": [
    "print(a)\n",
    "print(b)"
   ]
  },
  {
   "cell_type": "markdown",
   "metadata": {},
   "source": [
    "The print statement again returns the results in the form of a dictionary, but instead of bitstrings, these are now converted into the corresponding outcome label determined by the decoder.\n",
    "\n",
    "For the purposes of further understanding, let us take a look what is automatically being done in the background by printing the underlying circuit:"
   ]
  },
  {
   "cell_type": "code",
   "execution_count": null,
   "metadata": {},
   "outputs": [],
   "source": [
    "print(a.qs)"
   ]
  },
  {
   "cell_type": "markdown",
   "metadata": {},
   "source": [
    "We see an x gate acting on the second allocated qubit of a - this corresponds to the bitstring 010, which is indeed 2 in binary. The approach is the same also for floats both signed and unsigned:"
   ]
  },
  {
   "cell_type": "code",
   "execution_count": null,
   "metadata": {},
   "outputs": [],
   "source": [
    "print(b.qs)"
   ]
  },
  {
   "cell_type": "markdown",
   "metadata": {},
   "source": [
    "The corresponding bitstring $i$ is now 1101, which is 13 in binary. The factor from the decoder $(i-2^{n+1})$ returns $-3. Multiplied by the precision of $2^{-2}=0.25$ that we set, this indeed returns -0.75."
   ]
  },
  {
   "cell_type": "markdown",
   "metadata": {},
   "source": [
    "Let's take a step back and with this understanding showcase the arithmetic operations provided by Qrisp **without ever thinking about circuits**.\n",
    "\n",
    "Instead of worrying about the qubits involved, in Qrisp one can do simple operations out of the gate!"
   ]
  },
  {
   "cell_type": "markdown",
   "metadata": {},
   "source": [
    "## Exercise: Arithmetic Operations with QuantumFloats\n",
    "\n",
    "Add, subtract, multiply and divide Variables a and b we have defined before and output the result."
   ]
  },
  {
   "cell_type": "markdown",
   "metadata": {},
   "source": [
    "##### ADDITION"
   ]
  },
  {
   "cell_type": "code",
   "execution_count": null,
   "metadata": {},
   "outputs": [],
   "source": [
    "c = a+b\n",
    "print(c)"
   ]
  },
  {
   "cell_type": "markdown",
   "metadata": {},
   "source": [
    "##### SUBTRACTION"
   ]
  },
  {
   "cell_type": "code",
   "execution_count": null,
   "metadata": {},
   "outputs": [],
   "source": [
    "d = a - b\n",
    "print(d)"
   ]
  },
  {
   "cell_type": "markdown",
   "metadata": {},
   "source": [
    "##### MULTIPLICATION"
   ]
  },
  {
   "cell_type": "code",
   "execution_count": null,
   "metadata": {},
   "outputs": [],
   "source": [
    "e = a * b\n",
    "print(e)"
   ]
  },
  {
   "cell_type": "markdown",
   "metadata": {},
   "source": [
    "##### DIVISION"
   ]
  },
  {
   "cell_type": "code",
   "execution_count": null,
   "metadata": {},
   "outputs": [],
   "source": [
    "f = a/b\n",
    "print(f)"
   ]
  }
 ],
 "metadata": {
  "kernelspec": {
   "display_name": "qrisp_github",
   "language": "python",
   "name": "python3"
  },
  "language_info": {
   "codemirror_mode": {
    "name": "ipython",
    "version": 3
   },
   "file_extension": ".py",
   "mimetype": "text/x-python",
   "name": "python",
   "nbconvert_exporter": "python",
   "pygments_lexer": "ipython3",
   "version": "3.11.5"
  }
 },
 "nbformat": 4,
 "nbformat_minor": 2
}
