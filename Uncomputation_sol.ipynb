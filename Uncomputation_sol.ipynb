{
 "cells": [
  {
   "cell_type": "markdown",
   "metadata": {},
   "source": [
    "## Automatic Uncomputation\n",
    "\n",
    "Qrisp supports automatic uncomputation of local variables that are used within a function.  \n",
    "  \n",
    "We start by defining a function:"
   ]
  },
  {
   "cell_type": "code",
   "execution_count": null,
   "metadata": {},
   "outputs": [],
   "source": [
    "from qrisp import *\n",
    "\n",
    "def triple_AND(a, b, c):\n",
    "\n",
    "   local = QuantumBool()\n",
    "   result =  QuantumBool()\n",
    "\n",
    "   mcx([a, b], local)\n",
    "   mcx([local, c], result)\n",
    "\n",
    "   return result\n",
    "\n",
    "a = QuantumBool()\n",
    "b = QuantumBool()\n",
    "c = QuantumBool()\n",
    "\n",
    "result = triple_AND(a, b, c)\n",
    "\n",
    "print(result.qs)\n"
   ]
  },
  {
   "cell_type": "markdown",
   "metadata": {},
   "source": [
    "Now we want to uncompute the local variables:"
   ]
  },
  {
   "cell_type": "code",
   "execution_count": null,
   "metadata": {},
   "outputs": [],
   "source": [
    "@auto_uncompute\n",
    "def triple_AND(a, b, c):\n",
    "\n",
    "   local = QuantumBool()\n",
    "   result =  QuantumBool()\n",
    "\n",
    "   mcx([a, b], local)\n",
    "   mcx([local, c], result)\n",
    "\n",
    "   return result\n",
    "\n",
    "a = QuantumBool()\n",
    "b = QuantumBool()\n",
    "c = QuantumBool()\n",
    "\n",
    "result = triple_AND(a, b, c)\n",
    "\n",
    "print(result.qs)"
   ]
  },
  {
   "cell_type": "code",
   "execution_count": null,
   "metadata": {},
   "outputs": [],
   "source": [
    "def triple_AND(a, b, c):\n",
    "\n",
    "   local = QuantumBool()\n",
    "   result =  QuantumBool()\n",
    "\n",
    "   mcx([a, b], local)\n",
    "   mcx([local, c], result)\n",
    "\n",
    "   local.uncompute()\n",
    "\n",
    "   return result\n",
    "\n",
    "a = QuantumBool()\n",
    "b = QuantumBool()\n",
    "c = QuantumBool()\n",
    "\n",
    "result = triple_AND(a, b, c)\n",
    "\n",
    "print(result.qs)"
   ]
  },
  {
   "cell_type": "code",
   "execution_count": null,
   "metadata": {},
   "outputs": [],
   "source": []
  }
 ],
 "metadata": {
  "kernelspec": {
   "display_name": "qrisp_github",
   "language": "python",
   "name": "python3"
  },
  "language_info": {
   "codemirror_mode": {
    "name": "ipython",
    "version": 3
   },
   "file_extension": ".py",
   "mimetype": "text/x-python",
   "name": "python",
   "nbconvert_exporter": "python",
   "pygments_lexer": "ipython3",
   "version": "3.11.5"
  }
 },
 "nbformat": 4,
 "nbformat_minor": 2
}
