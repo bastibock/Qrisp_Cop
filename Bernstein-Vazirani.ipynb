{
 "cells": [
  {
   "cell_type": "markdown",
   "metadata": {},
   "source": [
    "## Bernstein-Vazirani algorithm\n",
    "\n",
    "First step: Hadamard transform on register --> equal superposition of all possible bitstrings $x$ of length $n$: $$H^{\\otimes  n}\\ket 0^{\\otimes n}=\\ket+^{\\otimes n}=\\frac{1}{\\sqrt{2^n}}\\sum_{x\\in\\{0,1\\}^n}\\ket{x}$$"
   ]
  },
  {
   "cell_type": "code",
   "execution_count": null,
   "metadata": {},
   "outputs": [],
   "source": [
    "from qrisp import *\n",
    "\n",
    "qv = QuantumVariable(3)\n",
    "h(qv)\n",
    "print(qv)"
   ]
  },
  {
   "cell_type": "code",
   "execution_count": null,
   "metadata": {},
   "outputs": [],
   "source": [
    "qb = QuantumArray(qtype=QuantumVariable(1), shape = 3)\n",
    "x(qb[:2])\n",
    "print(qb)\n",
    "h(qb)\n",
    "sv = qb.qs.statevector()\n",
    "sv"
   ]
  },
  {
   "cell_type": "markdown",
   "metadata": {},
   "source": [
    "One quickly notices the phase factor whenever the binary dot product of $\\ket{110}$ and that particular state $\\ket{y}$ equals one. We can therefore rewrite this as: $$H^{\\otimes  n}\\ket{x}^{\\otimes n}=H\\ket{x_0}\\dots H\\ket{x_n}=\\frac{1}{\\sqrt{2^n}}\\sum_{y\\in\\{0,1\\}^n}(-1)^{x\\cdot y}\\ket{y}$$"
   ]
  },
  {
   "cell_type": "markdown",
   "metadata": {},
   "source": [
    "### Exercise: Implement the Bernstein-Vazirani oracle\n",
    "Define an oracle which applies the Unitary U_f such that the correct output state is given, basend on an hidden string as input."
   ]
  },
  {
   "cell_type": "code",
   "execution_count": null,
   "metadata": {},
   "outputs": [],
   "source": [
    "## Implementation\n",
    "\n",
    "def bv_oracle(q_array, hidden_string):\n",
    "\n",
    "    return q_array\n",
    "\n",
    "l = 4\n",
    "q_array = QuantumArray(qtype= QuantumVariable(1), shape = (l))\n",
    "\n",
    "h(q_array)\n",
    "hidden_string = '1101'\n",
    "\n",
    "bv_oracle(q_array, hidden_string)\n",
    "h(q_array)\n",
    "print(q_array[:])"
   ]
  },
  {
   "cell_type": "code",
   "execution_count": null,
   "metadata": {},
   "outputs": [],
   "source": [
    "print(q_array[:].qs)"
   ]
  },
  {
   "cell_type": "markdown",
   "metadata": {},
   "source": [
    "The oracle is essentially just CX gates acting where the control bit holds a '1'."
   ]
  },
  {
   "cell_type": "markdown",
   "metadata": {},
   "source": [
    "### Exercise 2: Uncomputation:\n",
    "Try to uncompute the local QuantumVariable qv_h we just used."
   ]
  },
  {
   "cell_type": "code",
   "execution_count": null,
   "metadata": {},
   "outputs": [],
   "source": [
    "\n",
    "def bv_oracle(q_array, hidden_string): \n",
    "\n",
    "    return qv\n",
    "\n",
    "l = 4\n",
    "q_array = QuantumArray(qtype= QuantumVariable(1), shape = (l))\n",
    "\n",
    "h(q_array)\n",
    "hidden_string = '1101'\n",
    "\n",
    "bv_oracle(q_array, hidden_string)\n",
    "h(q_array)\n",
    "print(q_array[:])"
   ]
  },
  {
   "cell_type": "code",
   "execution_count": null,
   "metadata": {},
   "outputs": [],
   "source": []
  }
 ],
 "metadata": {
  "kernelspec": {
   "display_name": "qrisp_github",
   "language": "python",
   "name": "python3"
  },
  "language_info": {
   "codemirror_mode": {
    "name": "ipython",
    "version": 3
   },
   "file_extension": ".py",
   "mimetype": "text/x-python",
   "name": "python",
   "nbconvert_exporter": "python",
   "pygments_lexer": "ipython3",
   "version": "3.11.5"
  }
 },
 "nbformat": 4,
 "nbformat_minor": 2
}
