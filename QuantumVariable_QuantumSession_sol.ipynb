{
 "cells": [
  {
   "cell_type": "markdown",
   "metadata": {},
   "source": [
    "## QuantumVariable\n",
    "Central building block of Qrisp algorithms\n",
    "\n",
    "- Quantum equivalent of a regular variable in classical programming languages\n",
    "- an abstraction to hide the qubit management away from the user\n",
    "- enables human readable inputs and outputs, creating custom types, and an infix arithmetic syntax\n",
    "\n",
    "Creating a QuantumVariable:"
   ]
  },
  {
   "cell_type": "code",
   "execution_count": null,
   "metadata": {},
   "outputs": [],
   "source": [
    "from qrisp import *\n",
    "\n",
    "qv = QuantumVariable(4)\n",
    "print(qv)"
   ]
  },
  {
   "cell_type": "markdown",
   "metadata": {},
   "source": [
    "Results are returned in the form of a dictionary of bitstrings."
   ]
  },
  {
   "cell_type": "markdown",
   "metadata": {},
   "source": [
    "## QuantumSession\n",
    "\n",
    "- manages the life cycle of QuantumVariables\n",
    "- enables features as automatic uncomputation and QuantumEnvironments (discussed later)"
   ]
  },
  {
   "cell_type": "code",
   "execution_count": null,
   "metadata": {},
   "outputs": [],
   "source": [
    "print(qv.qs)"
   ]
  },
  {
   "cell_type": "markdown",
   "metadata": {},
   "source": [
    "Apply gate functions to qubits registered in a QuantumSession:"
   ]
  },
  {
   "cell_type": "code",
   "execution_count": null,
   "metadata": {},
   "outputs": [],
   "source": [
    "h(qv[1])\n",
    "qv.get_measurement()\n",
    "#print(qv)"
   ]
  },
  {
   "cell_type": "code",
   "execution_count": null,
   "metadata": {},
   "outputs": [],
   "source": [
    "x(qv[0])\n",
    "print(qv)"
   ]
  },
  {
   "cell_type": "markdown",
   "metadata": {},
   "source": [
    "Inspect the underlying circuit structure with"
   ]
  },
  {
   "cell_type": "code",
   "execution_count": null,
   "metadata": {},
   "outputs": [],
   "source": [
    "print(qv.qs)"
   ]
  },
  {
   "cell_type": "markdown",
   "metadata": {},
   "source": [
    "**Adding more QuantumVariables**"
   ]
  },
  {
   "cell_type": "code",
   "execution_count": null,
   "metadata": {},
   "outputs": [],
   "source": [
    "qv_2 = QuantumVariable(1)\n",
    "\n",
    "cx(qv[1], qv_2[0])\n",
    "print(qv.qs)"
   ]
  },
  {
   "cell_type": "markdown",
   "metadata": {},
   "source": [
    "Sessions for QuantumVariables that have entangling operations between them are automatically merged."
   ]
  },
  {
   "cell_type": "code",
   "execution_count": null,
   "metadata": {},
   "outputs": [],
   "source": [
    "print(qv_2)"
   ]
  },
  {
   "cell_type": "markdown",
   "metadata": {},
   "source": [
    "**More QuantumSession methods**\n",
    "\n",
    "- .statevector()\n",
    "- .compile()\n",
    "- .depth()\n",
    "- .cnot_count()"
   ]
  },
  {
   "cell_type": "code",
   "execution_count": null,
   "metadata": {},
   "outputs": [],
   "source": [
    "print(qv.qs.statevector())"
   ]
  },
  {
   "cell_type": "markdown",
   "metadata": {},
   "source": [
    "### Exercise: preparing a $\\ket{GHZ}$ state\n",
    "\n",
    "As a first small programming example we want to create a 4-Qubit GHZ state, which is a superposition of all zero and one states.\n",
    "To create the GHZ state you have different options. \n",
    "1. Apply the necessary gates to the QuantumVariable to create hte GHZ state\n",
    "2. Use the .init_state() method\n",
    "3. Use the [:] operator\n",
    "\n",
    "In any case the dictionary should read: \n",
    "{'0000': (1/2)**0.5, '1111': (1/2)**0.5}"
   ]
  },
  {
   "cell_type": "code",
   "execution_count": null,
   "metadata": {},
   "outputs": [],
   "source": [
    "## Using [:] operator\n",
    "\n",
    "prep_GHZ = QuantumVariable(4)\n",
    "prep_GHZ[:] = {'0000': (1/2)**0.5, '1111': (1/2)**0.5}\n"
   ]
  },
  {
   "cell_type": "code",
   "execution_count": null,
   "metadata": {},
   "outputs": [],
   "source": [
    "## Using init_state method\n",
    "\n",
    "prep_GHZ_init = QuantumVariable(4)\n",
    "# prep_GHZ.init_state({'0000': (1/2)**0.5, '1111': (1/2)**0.5})\n",
    "prep_GHZ_init.init_state({'0000': (1/2)**0.5, '1111': (1/2)**0.5})"
   ]
  },
  {
   "cell_type": "code",
   "execution_count": null,
   "metadata": {},
   "outputs": [],
   "source": [
    "## Directly applying gates:\n",
    "\n",
    "def GHZ(qv):\n",
    "    h(qv[0])\n",
    "    for i in range (1, qv.size):\n",
    "        cx(qv[0], qv[i])\n",
    "    return qv\n",
    "\n",
    "prep_GHZ_gate = QuantumVariable(4)\n",
    "GHZ(prep_GHZ_gate)\n"
   ]
  },
  {
   "cell_type": "markdown",
   "metadata": {},
   "source": [
    "**Check result**"
   ]
  },
  {
   "cell_type": "code",
   "execution_count": null,
   "metadata": {},
   "outputs": [],
   "source": [
    "print(prep_GHZ.qs.statevector())"
   ]
  },
  {
   "cell_type": "markdown",
   "metadata": {},
   "source": [
    "**Compare Implementations:**"
   ]
  },
  {
   "cell_type": "code",
   "execution_count": null,
   "metadata": {},
   "outputs": [],
   "source": [
    "print(prep_GHZ.qs.depth())\n",
    "print(prep_GHZ.qs.cnot_count())\n",
    "\n",
    "print(prep_GHZ_init.qs.depth())\n",
    "print(prep_GHZ_init.qs.cnot_count())\n",
    "\n",
    "print(prep_GHZ_gate.qs.depth())\n",
    "print(prep_GHZ_gate.qs.cnot_count())"
   ]
  },
  {
   "cell_type": "markdown",
   "metadata": {},
   "source": [
    "We have defined our first function in Qrisp! Calling GHZ on a QuantumVariable, will bring that arbitrary QuantumVariable into a GHZ state.\n",
    "\n",
    "We have used a for loop, and utilize the .size attribute with the depth of 4, and 3 CNOT gates in total!"
   ]
  },
  {
   "cell_type": "markdown",
   "metadata": {},
   "source": [
    "QuantumVariables and how we used them so far represent only the tip of the iceberg of what they can do. They also allow for creating quantum types, which are a subclass of the QuantumVariable."
   ]
  }
 ],
 "metadata": {
  "kernelspec": {
   "display_name": "qrisp_github",
   "language": "python",
   "name": "python3"
  },
  "language_info": {
   "codemirror_mode": {
    "name": "ipython",
    "version": 3
   },
   "file_extension": ".py",
   "mimetype": "text/x-python",
   "name": "python",
   "nbconvert_exporter": "python",
   "pygments_lexer": "ipython3",
   "version": "3.11.5"
  }
 },
 "nbformat": 4,
 "nbformat_minor": 2
}
